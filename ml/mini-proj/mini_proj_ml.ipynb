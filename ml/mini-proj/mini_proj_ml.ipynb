{
 "cells": [
  {
   "cell_type": "code",
   "execution_count": 1,
   "id": "6712ecec",
   "metadata": {
    "execution": {
     "iopub.execute_input": "2022-11-05T09:32:19.263318Z",
     "iopub.status.busy": "2022-11-05T09:32:19.261872Z",
     "iopub.status.idle": "2022-11-05T09:32:20.806561Z",
     "shell.execute_reply": "2022-11-05T09:32:20.804933Z"
    },
    "papermill": {
     "duration": 1.564998,
     "end_time": "2022-11-05T09:32:20.809757",
     "exception": false,
     "start_time": "2022-11-05T09:32:19.244759",
     "status": "completed"
    },
    "tags": []
   },
   "outputs": [],
   "source": [
    "import pandas as pd\n",
    "import matplotlib.pyplot as plt\n",
    "import seaborn as sns\n",
    "\n",
    "from sklearn.model_selection import train_test_split\n",
    "from sklearn.linear_model import LogisticRegression\n",
    "from sklearn.metrics import accuracy_score"
   ]
  },
  {
   "cell_type": "code",
   "execution_count": 2,
   "id": "a8d73347",
   "metadata": {
    "execution": {
     "iopub.execute_input": "2022-11-05T09:32:20.843296Z",
     "iopub.status.busy": "2022-11-05T09:32:20.842705Z",
     "iopub.status.idle": "2022-11-05T09:32:20.848707Z",
     "shell.execute_reply": "2022-11-05T09:32:20.847307Z"
    },
    "papermill": {
     "duration": 0.024975,
     "end_time": "2022-11-05T09:32:20.850948",
     "exception": false,
     "start_time": "2022-11-05T09:32:20.825973",
     "status": "completed"
    },
    "tags": []
   },
   "outputs": [],
   "source": [
    "import warnings\n",
    "warnings.filterwarnings(\"ignore\")"
   ]
  },
  {
   "cell_type": "code",
   "execution_count": 4,
   "id": "b8fc569e",
   "metadata": {
    "execution": {
     "iopub.execute_input": "2022-11-05T09:32:20.878566Z",
     "iopub.status.busy": "2022-11-05T09:32:20.878066Z",
     "iopub.status.idle": "2022-11-05T09:32:20.932951Z",
     "shell.execute_reply": "2022-11-05T09:32:20.931489Z"
    },
    "papermill": {
     "duration": 0.073224,
     "end_time": "2022-11-05T09:32:20.936855",
     "exception": false,
     "start_time": "2022-11-05T09:32:20.863631",
     "status": "completed"
    },
    "tags": []
   },
   "outputs": [
    {
     "data": {
      "text/html": [
       "<div>\n",
       "<style scoped>\n",
       "    .dataframe tbody tr th:only-of-type {\n",
       "        vertical-align: middle;\n",
       "    }\n",
       "\n",
       "    .dataframe tbody tr th {\n",
       "        vertical-align: top;\n",
       "    }\n",
       "\n",
       "    .dataframe thead th {\n",
       "        text-align: right;\n",
       "    }\n",
       "</style>\n",
       "<table border=\"1\" class=\"dataframe\">\n",
       "  <thead>\n",
       "    <tr style=\"text-align: right;\">\n",
       "      <th></th>\n",
       "      <th>PassengerId</th>\n",
       "      <th>Survived</th>\n",
       "      <th>Pclass</th>\n",
       "      <th>Name</th>\n",
       "      <th>Sex</th>\n",
       "      <th>Age</th>\n",
       "      <th>SibSp</th>\n",
       "      <th>Parch</th>\n",
       "      <th>Ticket</th>\n",
       "      <th>Fare</th>\n",
       "      <th>Cabin</th>\n",
       "      <th>Embarked</th>\n",
       "    </tr>\n",
       "  </thead>\n",
       "  <tbody>\n",
       "    <tr>\n",
       "      <th>0</th>\n",
       "      <td>1</td>\n",
       "      <td>0</td>\n",
       "      <td>3</td>\n",
       "      <td>Braund, Mr. Owen Harris</td>\n",
       "      <td>male</td>\n",
       "      <td>22.0</td>\n",
       "      <td>1</td>\n",
       "      <td>0</td>\n",
       "      <td>A/5 21171</td>\n",
       "      <td>7.2500</td>\n",
       "      <td>NaN</td>\n",
       "      <td>S</td>\n",
       "    </tr>\n",
       "    <tr>\n",
       "      <th>1</th>\n",
       "      <td>2</td>\n",
       "      <td>1</td>\n",
       "      <td>1</td>\n",
       "      <td>Cumings, Mrs. John Bradley (Florence Briggs Th...</td>\n",
       "      <td>female</td>\n",
       "      <td>38.0</td>\n",
       "      <td>1</td>\n",
       "      <td>0</td>\n",
       "      <td>PC 17599</td>\n",
       "      <td>71.2833</td>\n",
       "      <td>C85</td>\n",
       "      <td>C</td>\n",
       "    </tr>\n",
       "    <tr>\n",
       "      <th>2</th>\n",
       "      <td>3</td>\n",
       "      <td>1</td>\n",
       "      <td>3</td>\n",
       "      <td>Heikkinen, Miss. Laina</td>\n",
       "      <td>female</td>\n",
       "      <td>26.0</td>\n",
       "      <td>0</td>\n",
       "      <td>0</td>\n",
       "      <td>STON/O2. 3101282</td>\n",
       "      <td>7.9250</td>\n",
       "      <td>NaN</td>\n",
       "      <td>S</td>\n",
       "    </tr>\n",
       "    <tr>\n",
       "      <th>3</th>\n",
       "      <td>4</td>\n",
       "      <td>1</td>\n",
       "      <td>1</td>\n",
       "      <td>Futrelle, Mrs. Jacques Heath (Lily May Peel)</td>\n",
       "      <td>female</td>\n",
       "      <td>35.0</td>\n",
       "      <td>1</td>\n",
       "      <td>0</td>\n",
       "      <td>113803</td>\n",
       "      <td>53.1000</td>\n",
       "      <td>C123</td>\n",
       "      <td>S</td>\n",
       "    </tr>\n",
       "    <tr>\n",
       "      <th>4</th>\n",
       "      <td>5</td>\n",
       "      <td>0</td>\n",
       "      <td>3</td>\n",
       "      <td>Allen, Mr. William Henry</td>\n",
       "      <td>male</td>\n",
       "      <td>35.0</td>\n",
       "      <td>0</td>\n",
       "      <td>0</td>\n",
       "      <td>373450</td>\n",
       "      <td>8.0500</td>\n",
       "      <td>NaN</td>\n",
       "      <td>S</td>\n",
       "    </tr>\n",
       "  </tbody>\n",
       "</table>\n",
       "</div>"
      ],
      "text/plain": [
       "   PassengerId  Survived  Pclass  \\\n",
       "0            1         0       3   \n",
       "1            2         1       1   \n",
       "2            3         1       3   \n",
       "3            4         1       1   \n",
       "4            5         0       3   \n",
       "\n",
       "                                                Name     Sex   Age  SibSp  \\\n",
       "0                            Braund, Mr. Owen Harris    male  22.0      1   \n",
       "1  Cumings, Mrs. John Bradley (Florence Briggs Th...  female  38.0      1   \n",
       "2                             Heikkinen, Miss. Laina  female  26.0      0   \n",
       "3       Futrelle, Mrs. Jacques Heath (Lily May Peel)  female  35.0      1   \n",
       "4                           Allen, Mr. William Henry    male  35.0      0   \n",
       "\n",
       "   Parch            Ticket     Fare Cabin Embarked  \n",
       "0      0         A/5 21171   7.2500   NaN        S  \n",
       "1      0          PC 17599  71.2833   C85        C  \n",
       "2      0  STON/O2. 3101282   7.9250   NaN        S  \n",
       "3      0            113803  53.1000  C123        S  \n",
       "4      0            373450   8.0500   NaN        S  "
      ]
     },
     "execution_count": 4,
     "metadata": {},
     "output_type": "execute_result"
    }
   ],
   "source": [
    "titanic_data = pd.read_csv('train.csv')\n",
    "titanic_test = pd.read_csv('test.csv')\n",
    "titanic_data.head()"
   ]
  },
  {
   "cell_type": "code",
   "execution_count": 5,
   "id": "30c9c3d1",
   "metadata": {
    "execution": {
     "iopub.execute_input": "2022-11-05T09:32:20.966987Z",
     "iopub.status.busy": "2022-11-05T09:32:20.966524Z",
     "iopub.status.idle": "2022-11-05T09:32:20.974352Z",
     "shell.execute_reply": "2022-11-05T09:32:20.973164Z"
    },
    "papermill": {
     "duration": 0.025969,
     "end_time": "2022-11-05T09:32:20.976809",
     "exception": false,
     "start_time": "2022-11-05T09:32:20.950840",
     "status": "completed"
    },
    "tags": []
   },
   "outputs": [
    {
     "data": {
      "text/plain": [
       "(891, 12)"
      ]
     },
     "execution_count": 5,
     "metadata": {},
     "output_type": "execute_result"
    }
   ],
   "source": [
    "titanic_data.shape"
   ]
  },
  {
   "cell_type": "code",
   "execution_count": 6,
   "id": "0e5b017f",
   "metadata": {
    "execution": {
     "iopub.execute_input": "2022-11-05T09:32:21.006036Z",
     "iopub.status.busy": "2022-11-05T09:32:21.005563Z",
     "iopub.status.idle": "2022-11-05T09:32:21.054666Z",
     "shell.execute_reply": "2022-11-05T09:32:21.052945Z"
    },
    "papermill": {
     "duration": 0.066909,
     "end_time": "2022-11-05T09:32:21.057408",
     "exception": false,
     "start_time": "2022-11-05T09:32:20.990499",
     "status": "completed"
    },
    "tags": []
   },
   "outputs": [
    {
     "data": {
      "text/html": [
       "<div>\n",
       "<style scoped>\n",
       "    .dataframe tbody tr th:only-of-type {\n",
       "        vertical-align: middle;\n",
       "    }\n",
       "\n",
       "    .dataframe tbody tr th {\n",
       "        vertical-align: top;\n",
       "    }\n",
       "\n",
       "    .dataframe thead th {\n",
       "        text-align: right;\n",
       "    }\n",
       "</style>\n",
       "<table border=\"1\" class=\"dataframe\">\n",
       "  <thead>\n",
       "    <tr style=\"text-align: right;\">\n",
       "      <th></th>\n",
       "      <th>PassengerId</th>\n",
       "      <th>Survived</th>\n",
       "      <th>Pclass</th>\n",
       "      <th>Age</th>\n",
       "      <th>SibSp</th>\n",
       "      <th>Parch</th>\n",
       "      <th>Fare</th>\n",
       "    </tr>\n",
       "  </thead>\n",
       "  <tbody>\n",
       "    <tr>\n",
       "      <th>count</th>\n",
       "      <td>891.000000</td>\n",
       "      <td>891.000000</td>\n",
       "      <td>891.000000</td>\n",
       "      <td>714.000000</td>\n",
       "      <td>891.000000</td>\n",
       "      <td>891.000000</td>\n",
       "      <td>891.000000</td>\n",
       "    </tr>\n",
       "    <tr>\n",
       "      <th>mean</th>\n",
       "      <td>446.000000</td>\n",
       "      <td>0.383838</td>\n",
       "      <td>2.308642</td>\n",
       "      <td>29.699118</td>\n",
       "      <td>0.523008</td>\n",
       "      <td>0.381594</td>\n",
       "      <td>32.204208</td>\n",
       "    </tr>\n",
       "    <tr>\n",
       "      <th>std</th>\n",
       "      <td>257.353842</td>\n",
       "      <td>0.486592</td>\n",
       "      <td>0.836071</td>\n",
       "      <td>14.526497</td>\n",
       "      <td>1.102743</td>\n",
       "      <td>0.806057</td>\n",
       "      <td>49.693429</td>\n",
       "    </tr>\n",
       "    <tr>\n",
       "      <th>min</th>\n",
       "      <td>1.000000</td>\n",
       "      <td>0.000000</td>\n",
       "      <td>1.000000</td>\n",
       "      <td>0.420000</td>\n",
       "      <td>0.000000</td>\n",
       "      <td>0.000000</td>\n",
       "      <td>0.000000</td>\n",
       "    </tr>\n",
       "    <tr>\n",
       "      <th>25%</th>\n",
       "      <td>223.500000</td>\n",
       "      <td>0.000000</td>\n",
       "      <td>2.000000</td>\n",
       "      <td>20.125000</td>\n",
       "      <td>0.000000</td>\n",
       "      <td>0.000000</td>\n",
       "      <td>7.910400</td>\n",
       "    </tr>\n",
       "    <tr>\n",
       "      <th>50%</th>\n",
       "      <td>446.000000</td>\n",
       "      <td>0.000000</td>\n",
       "      <td>3.000000</td>\n",
       "      <td>28.000000</td>\n",
       "      <td>0.000000</td>\n",
       "      <td>0.000000</td>\n",
       "      <td>14.454200</td>\n",
       "    </tr>\n",
       "    <tr>\n",
       "      <th>75%</th>\n",
       "      <td>668.500000</td>\n",
       "      <td>1.000000</td>\n",
       "      <td>3.000000</td>\n",
       "      <td>38.000000</td>\n",
       "      <td>1.000000</td>\n",
       "      <td>0.000000</td>\n",
       "      <td>31.000000</td>\n",
       "    </tr>\n",
       "    <tr>\n",
       "      <th>max</th>\n",
       "      <td>891.000000</td>\n",
       "      <td>1.000000</td>\n",
       "      <td>3.000000</td>\n",
       "      <td>80.000000</td>\n",
       "      <td>8.000000</td>\n",
       "      <td>6.000000</td>\n",
       "      <td>512.329200</td>\n",
       "    </tr>\n",
       "  </tbody>\n",
       "</table>\n",
       "</div>"
      ],
      "text/plain": [
       "       PassengerId    Survived      Pclass         Age       SibSp  \\\n",
       "count   891.000000  891.000000  891.000000  714.000000  891.000000   \n",
       "mean    446.000000    0.383838    2.308642   29.699118    0.523008   \n",
       "std     257.353842    0.486592    0.836071   14.526497    1.102743   \n",
       "min       1.000000    0.000000    1.000000    0.420000    0.000000   \n",
       "25%     223.500000    0.000000    2.000000   20.125000    0.000000   \n",
       "50%     446.000000    0.000000    3.000000   28.000000    0.000000   \n",
       "75%     668.500000    1.000000    3.000000   38.000000    1.000000   \n",
       "max     891.000000    1.000000    3.000000   80.000000    8.000000   \n",
       "\n",
       "            Parch        Fare  \n",
       "count  891.000000  891.000000  \n",
       "mean     0.381594   32.204208  \n",
       "std      0.806057   49.693429  \n",
       "min      0.000000    0.000000  \n",
       "25%      0.000000    7.910400  \n",
       "50%      0.000000   14.454200  \n",
       "75%      0.000000   31.000000  \n",
       "max      6.000000  512.329200  "
      ]
     },
     "execution_count": 6,
     "metadata": {},
     "output_type": "execute_result"
    }
   ],
   "source": [
    "titanic_data.describe()"
   ]
  },
  {
   "cell_type": "code",
   "execution_count": 7,
   "id": "cecba6ba",
   "metadata": {
    "execution": {
     "iopub.execute_input": "2022-11-05T09:32:21.086971Z",
     "iopub.status.busy": "2022-11-05T09:32:21.086503Z",
     "iopub.status.idle": "2022-11-05T09:32:21.106849Z",
     "shell.execute_reply": "2022-11-05T09:32:21.105970Z"
    },
    "papermill": {
     "duration": 0.03905,
     "end_time": "2022-11-05T09:32:21.110365",
     "exception": false,
     "start_time": "2022-11-05T09:32:21.071315",
     "status": "completed"
    },
    "tags": []
   },
   "outputs": [
    {
     "name": "stdout",
     "output_type": "stream",
     "text": [
      "<class 'pandas.core.frame.DataFrame'>\n",
      "RangeIndex: 891 entries, 0 to 890\n",
      "Data columns (total 12 columns):\n",
      " #   Column       Non-Null Count  Dtype  \n",
      "---  ------       --------------  -----  \n",
      " 0   PassengerId  891 non-null    int64  \n",
      " 1   Survived     891 non-null    int64  \n",
      " 2   Pclass       891 non-null    int64  \n",
      " 3   Name         891 non-null    object \n",
      " 4   Sex          891 non-null    object \n",
      " 5   Age          714 non-null    float64\n",
      " 6   SibSp        891 non-null    int64  \n",
      " 7   Parch        891 non-null    int64  \n",
      " 8   Ticket       891 non-null    object \n",
      " 9   Fare         891 non-null    float64\n",
      " 10  Cabin        204 non-null    object \n",
      " 11  Embarked     889 non-null    object \n",
      "dtypes: float64(2), int64(5), object(5)\n",
      "memory usage: 83.7+ KB\n"
     ]
    }
   ],
   "source": [
    "titanic_data.info()"
   ]
  },
  {
   "cell_type": "code",
   "execution_count": 8,
   "id": "94a58956",
   "metadata": {
    "execution": {
     "iopub.execute_input": "2022-11-05T09:32:21.141594Z",
     "iopub.status.busy": "2022-11-05T09:32:21.141166Z",
     "iopub.status.idle": "2022-11-05T09:32:21.152002Z",
     "shell.execute_reply": "2022-11-05T09:32:21.151007Z"
    },
    "papermill": {
     "duration": 0.028281,
     "end_time": "2022-11-05T09:32:21.154327",
     "exception": false,
     "start_time": "2022-11-05T09:32:21.126046",
     "status": "completed"
    },
    "tags": []
   },
   "outputs": [
    {
     "data": {
      "text/plain": [
       "PassengerId      0\n",
       "Survived         0\n",
       "Pclass           0\n",
       "Name             0\n",
       "Sex              0\n",
       "Age            177\n",
       "SibSp            0\n",
       "Parch            0\n",
       "Ticket           0\n",
       "Fare             0\n",
       "Cabin          687\n",
       "Embarked         2\n",
       "dtype: int64"
      ]
     },
     "execution_count": 8,
     "metadata": {},
     "output_type": "execute_result"
    }
   ],
   "source": [
    "titanic_data.isnull().sum()"
   ]
  },
  {
   "cell_type": "code",
   "execution_count": 9,
   "id": "036b6019",
   "metadata": {
    "execution": {
     "iopub.execute_input": "2022-11-05T09:32:21.183716Z",
     "iopub.status.busy": "2022-11-05T09:32:21.183286Z",
     "iopub.status.idle": "2022-11-05T09:32:21.190264Z",
     "shell.execute_reply": "2022-11-05T09:32:21.189054Z"
    },
    "papermill": {
     "duration": 0.02461,
     "end_time": "2022-11-05T09:32:21.192648",
     "exception": false,
     "start_time": "2022-11-05T09:32:21.168038",
     "status": "completed"
    },
    "tags": []
   },
   "outputs": [],
   "source": [
    "titanic_data = titanic_data.drop(columns='Cabin', axis = 1)"
   ]
  },
  {
   "cell_type": "code",
   "execution_count": 10,
   "id": "5ec56005",
   "metadata": {
    "execution": {
     "iopub.execute_input": "2022-11-05T09:32:21.221955Z",
     "iopub.status.busy": "2022-11-05T09:32:21.221513Z",
     "iopub.status.idle": "2022-11-05T09:32:21.227750Z",
     "shell.execute_reply": "2022-11-05T09:32:21.226875Z"
    },
    "papermill": {
     "duration": 0.02405,
     "end_time": "2022-11-05T09:32:21.230508",
     "exception": false,
     "start_time": "2022-11-05T09:32:21.206458",
     "status": "completed"
    },
    "tags": []
   },
   "outputs": [],
   "source": [
    "titanic_data['Age'].fillna(titanic_data['Age'].mean(), inplace= True)"
   ]
  },
  {
   "cell_type": "code",
   "execution_count": 11,
   "id": "d36051fa",
   "metadata": {
    "execution": {
     "iopub.execute_input": "2022-11-05T09:32:21.259991Z",
     "iopub.status.busy": "2022-11-05T09:32:21.259616Z",
     "iopub.status.idle": "2022-11-05T09:32:21.266566Z",
     "shell.execute_reply": "2022-11-05T09:32:21.264918Z"
    },
    "papermill": {
     "duration": 0.024798,
     "end_time": "2022-11-05T09:32:21.269131",
     "exception": false,
     "start_time": "2022-11-05T09:32:21.244333",
     "status": "completed"
    },
    "tags": []
   },
   "outputs": [
    {
     "name": "stdout",
     "output_type": "stream",
     "text": [
      "S\n"
     ]
    }
   ],
   "source": [
    "print(titanic_data['Embarked'].mode()[0])"
   ]
  },
  {
   "cell_type": "code",
   "execution_count": 12,
   "id": "2329893d",
   "metadata": {
    "execution": {
     "iopub.execute_input": "2022-11-05T09:32:21.298622Z",
     "iopub.status.busy": "2022-11-05T09:32:21.298138Z",
     "iopub.status.idle": "2022-11-05T09:32:21.306198Z",
     "shell.execute_reply": "2022-11-05T09:32:21.304870Z"
    },
    "papermill": {
     "duration": 0.02557,
     "end_time": "2022-11-05T09:32:21.308372",
     "exception": false,
     "start_time": "2022-11-05T09:32:21.282802",
     "status": "completed"
    },
    "tags": []
   },
   "outputs": [],
   "source": [
    "titanic_data['Embarked'].fillna(titanic_data['Embarked'].mode()[0], inplace= True)"
   ]
  },
  {
   "cell_type": "code",
   "execution_count": 13,
   "id": "c864d5a1",
   "metadata": {
    "execution": {
     "iopub.execute_input": "2022-11-05T09:32:21.338019Z",
     "iopub.status.busy": "2022-11-05T09:32:21.337539Z",
     "iopub.status.idle": "2022-11-05T09:32:21.350866Z",
     "shell.execute_reply": "2022-11-05T09:32:21.349484Z"
    },
    "papermill": {
     "duration": 0.031365,
     "end_time": "2022-11-05T09:32:21.353411",
     "exception": false,
     "start_time": "2022-11-05T09:32:21.322046",
     "status": "completed"
    },
    "tags": []
   },
   "outputs": [
    {
     "data": {
      "text/plain": [
       "PassengerId    0\n",
       "Survived       0\n",
       "Pclass         0\n",
       "Name           0\n",
       "Sex            0\n",
       "Age            0\n",
       "SibSp          0\n",
       "Parch          0\n",
       "Ticket         0\n",
       "Fare           0\n",
       "Embarked       0\n",
       "dtype: int64"
      ]
     },
     "execution_count": 13,
     "metadata": {},
     "output_type": "execute_result"
    }
   ],
   "source": [
    "titanic_data.isnull().sum()"
   ]
  },
  {
   "cell_type": "code",
   "execution_count": 14,
   "id": "dffb54fb",
   "metadata": {
    "execution": {
     "iopub.execute_input": "2022-11-05T09:32:21.383427Z",
     "iopub.status.busy": "2022-11-05T09:32:21.382993Z",
     "iopub.status.idle": "2022-11-05T09:32:21.390542Z",
     "shell.execute_reply": "2022-11-05T09:32:21.389247Z"
    },
    "papermill": {
     "duration": 0.025745,
     "end_time": "2022-11-05T09:32:21.393198",
     "exception": false,
     "start_time": "2022-11-05T09:32:21.367453",
     "status": "completed"
    },
    "tags": []
   },
   "outputs": [
    {
     "data": {
      "text/plain": [
       "(891, 11)"
      ]
     },
     "execution_count": 14,
     "metadata": {},
     "output_type": "execute_result"
    }
   ],
   "source": [
    "titanic_data.shape"
   ]
  },
  {
   "cell_type": "code",
   "execution_count": 15,
   "id": "628280be",
   "metadata": {
    "execution": {
     "iopub.execute_input": "2022-11-05T09:32:21.424186Z",
     "iopub.status.busy": "2022-11-05T09:32:21.423661Z",
     "iopub.status.idle": "2022-11-05T09:32:21.444946Z",
     "shell.execute_reply": "2022-11-05T09:32:21.443451Z"
    },
    "papermill": {
     "duration": 0.039968,
     "end_time": "2022-11-05T09:32:21.447553",
     "exception": false,
     "start_time": "2022-11-05T09:32:21.407585",
     "status": "completed"
    },
    "scrolled": true,
    "tags": []
   },
   "outputs": [
    {
     "data": {
      "text/html": [
       "<div>\n",
       "<style scoped>\n",
       "    .dataframe tbody tr th:only-of-type {\n",
       "        vertical-align: middle;\n",
       "    }\n",
       "\n",
       "    .dataframe tbody tr th {\n",
       "        vertical-align: top;\n",
       "    }\n",
       "\n",
       "    .dataframe thead th {\n",
       "        text-align: right;\n",
       "    }\n",
       "</style>\n",
       "<table border=\"1\" class=\"dataframe\">\n",
       "  <thead>\n",
       "    <tr style=\"text-align: right;\">\n",
       "      <th></th>\n",
       "      <th>PassengerId</th>\n",
       "      <th>Survived</th>\n",
       "      <th>Pclass</th>\n",
       "      <th>Age</th>\n",
       "      <th>SibSp</th>\n",
       "      <th>Parch</th>\n",
       "      <th>Fare</th>\n",
       "    </tr>\n",
       "  </thead>\n",
       "  <tbody>\n",
       "    <tr>\n",
       "      <th>PassengerId</th>\n",
       "      <td>1.000000</td>\n",
       "      <td>-0.005007</td>\n",
       "      <td>-0.035144</td>\n",
       "      <td>0.033207</td>\n",
       "      <td>-0.057527</td>\n",
       "      <td>-0.001652</td>\n",
       "      <td>0.012658</td>\n",
       "    </tr>\n",
       "    <tr>\n",
       "      <th>Survived</th>\n",
       "      <td>-0.005007</td>\n",
       "      <td>1.000000</td>\n",
       "      <td>-0.338481</td>\n",
       "      <td>-0.069809</td>\n",
       "      <td>-0.035322</td>\n",
       "      <td>0.081629</td>\n",
       "      <td>0.257307</td>\n",
       "    </tr>\n",
       "    <tr>\n",
       "      <th>Pclass</th>\n",
       "      <td>-0.035144</td>\n",
       "      <td>-0.338481</td>\n",
       "      <td>1.000000</td>\n",
       "      <td>-0.331339</td>\n",
       "      <td>0.083081</td>\n",
       "      <td>0.018443</td>\n",
       "      <td>-0.549500</td>\n",
       "    </tr>\n",
       "    <tr>\n",
       "      <th>Age</th>\n",
       "      <td>0.033207</td>\n",
       "      <td>-0.069809</td>\n",
       "      <td>-0.331339</td>\n",
       "      <td>1.000000</td>\n",
       "      <td>-0.232625</td>\n",
       "      <td>-0.179191</td>\n",
       "      <td>0.091566</td>\n",
       "    </tr>\n",
       "    <tr>\n",
       "      <th>SibSp</th>\n",
       "      <td>-0.057527</td>\n",
       "      <td>-0.035322</td>\n",
       "      <td>0.083081</td>\n",
       "      <td>-0.232625</td>\n",
       "      <td>1.000000</td>\n",
       "      <td>0.414838</td>\n",
       "      <td>0.159651</td>\n",
       "    </tr>\n",
       "    <tr>\n",
       "      <th>Parch</th>\n",
       "      <td>-0.001652</td>\n",
       "      <td>0.081629</td>\n",
       "      <td>0.018443</td>\n",
       "      <td>-0.179191</td>\n",
       "      <td>0.414838</td>\n",
       "      <td>1.000000</td>\n",
       "      <td>0.216225</td>\n",
       "    </tr>\n",
       "    <tr>\n",
       "      <th>Fare</th>\n",
       "      <td>0.012658</td>\n",
       "      <td>0.257307</td>\n",
       "      <td>-0.549500</td>\n",
       "      <td>0.091566</td>\n",
       "      <td>0.159651</td>\n",
       "      <td>0.216225</td>\n",
       "      <td>1.000000</td>\n",
       "    </tr>\n",
       "  </tbody>\n",
       "</table>\n",
       "</div>"
      ],
      "text/plain": [
       "             PassengerId  Survived    Pclass       Age     SibSp     Parch  \\\n",
       "PassengerId     1.000000 -0.005007 -0.035144  0.033207 -0.057527 -0.001652   \n",
       "Survived       -0.005007  1.000000 -0.338481 -0.069809 -0.035322  0.081629   \n",
       "Pclass         -0.035144 -0.338481  1.000000 -0.331339  0.083081  0.018443   \n",
       "Age             0.033207 -0.069809 -0.331339  1.000000 -0.232625 -0.179191   \n",
       "SibSp          -0.057527 -0.035322  0.083081 -0.232625  1.000000  0.414838   \n",
       "Parch          -0.001652  0.081629  0.018443 -0.179191  0.414838  1.000000   \n",
       "Fare            0.012658  0.257307 -0.549500  0.091566  0.159651  0.216225   \n",
       "\n",
       "                 Fare  \n",
       "PassengerId  0.012658  \n",
       "Survived     0.257307  \n",
       "Pclass      -0.549500  \n",
       "Age          0.091566  \n",
       "SibSp        0.159651  \n",
       "Parch        0.216225  \n",
       "Fare         1.000000  "
      ]
     },
     "execution_count": 15,
     "metadata": {},
     "output_type": "execute_result"
    }
   ],
   "source": [
    "titanic_data.corr()"
   ]
  },
  {
   "cell_type": "code",
   "execution_count": 16,
   "id": "8d3a8d8a",
   "metadata": {
    "execution": {
     "iopub.execute_input": "2022-11-05T09:32:21.478661Z",
     "iopub.status.busy": "2022-11-05T09:32:21.478181Z",
     "iopub.status.idle": "2022-11-05T09:32:21.488150Z",
     "shell.execute_reply": "2022-11-05T09:32:21.486905Z"
    },
    "papermill": {
     "duration": 0.02912,
     "end_time": "2022-11-05T09:32:21.490782",
     "exception": false,
     "start_time": "2022-11-05T09:32:21.461662",
     "status": "completed"
    },
    "tags": []
   },
   "outputs": [
    {
     "data": {
      "text/plain": [
       "0    549\n",
       "1    342\n",
       "Name: Survived, dtype: int64"
      ]
     },
     "execution_count": 16,
     "metadata": {},
     "output_type": "execute_result"
    }
   ],
   "source": [
    "titanic_data['Survived'].value_counts()"
   ]
  },
  {
   "cell_type": "code",
   "execution_count": 17,
   "id": "f11d5283",
   "metadata": {
    "execution": {
     "iopub.execute_input": "2022-11-05T09:32:21.521978Z",
     "iopub.status.busy": "2022-11-05T09:32:21.521483Z",
     "iopub.status.idle": "2022-11-05T09:32:21.532084Z",
     "shell.execute_reply": "2022-11-05T09:32:21.530603Z"
    },
    "papermill": {
     "duration": 0.029318,
     "end_time": "2022-11-05T09:32:21.534658",
     "exception": false,
     "start_time": "2022-11-05T09:32:21.505340",
     "status": "completed"
    },
    "tags": []
   },
   "outputs": [
    {
     "data": {
      "text/plain": [
       "male      577\n",
       "female    314\n",
       "Name: Sex, dtype: int64"
      ]
     },
     "execution_count": 17,
     "metadata": {},
     "output_type": "execute_result"
    }
   ],
   "source": [
    "titanic_data['Sex'].value_counts()"
   ]
  },
  {
   "cell_type": "code",
   "execution_count": 18,
   "id": "91142fd7",
   "metadata": {
    "execution": {
     "iopub.execute_input": "2022-11-05T09:32:21.566187Z",
     "iopub.status.busy": "2022-11-05T09:32:21.565133Z",
     "iopub.status.idle": "2022-11-05T09:32:21.574451Z",
     "shell.execute_reply": "2022-11-05T09:32:21.573088Z"
    },
    "papermill": {
     "duration": 0.027388,
     "end_time": "2022-11-05T09:32:21.576677",
     "exception": false,
     "start_time": "2022-11-05T09:32:21.549289",
     "status": "completed"
    },
    "tags": []
   },
   "outputs": [],
   "source": [
    "titanic_data.replace({'Sex':{'male':0,'female':1}}, inplace = True)"
   ]
  },
  {
   "cell_type": "code",
   "execution_count": 19,
   "id": "9b0a2fcd",
   "metadata": {
    "execution": {
     "iopub.execute_input": "2022-11-05T09:32:21.608342Z",
     "iopub.status.busy": "2022-11-05T09:32:21.607899Z",
     "iopub.status.idle": "2022-11-05T09:32:21.616175Z",
     "shell.execute_reply": "2022-11-05T09:32:21.615166Z"
    },
    "papermill": {
     "duration": 0.027939,
     "end_time": "2022-11-05T09:32:21.618908",
     "exception": false,
     "start_time": "2022-11-05T09:32:21.590969",
     "status": "completed"
    },
    "tags": []
   },
   "outputs": [
    {
     "data": {
      "text/plain": [
       "array(['S', 'C', 'Q'], dtype=object)"
      ]
     },
     "execution_count": 19,
     "metadata": {},
     "output_type": "execute_result"
    }
   ],
   "source": [
    "titanic_data['Embarked'].unique()"
   ]
  },
  {
   "cell_type": "code",
   "execution_count": 20,
   "id": "0aa4e912",
   "metadata": {
    "execution": {
     "iopub.execute_input": "2022-11-05T09:32:21.651239Z",
     "iopub.status.busy": "2022-11-05T09:32:21.650745Z",
     "iopub.status.idle": "2022-11-05T09:32:21.661833Z",
     "shell.execute_reply": "2022-11-05T09:32:21.660175Z"
    },
    "papermill": {
     "duration": 0.0306,
     "end_time": "2022-11-05T09:32:21.664667",
     "exception": false,
     "start_time": "2022-11-05T09:32:21.634067",
     "status": "completed"
    },
    "tags": []
   },
   "outputs": [],
   "source": [
    "titanic_data.replace({'Embarked':{'S':0,'C':1, 'Q':2}}, inplace = True)"
   ]
  },
  {
   "cell_type": "code",
   "execution_count": 21,
   "id": "c03a3a4d",
   "metadata": {
    "execution": {
     "iopub.execute_input": "2022-11-05T09:32:21.696741Z",
     "iopub.status.busy": "2022-11-05T09:32:21.696332Z",
     "iopub.status.idle": "2022-11-05T09:32:21.705286Z",
     "shell.execute_reply": "2022-11-05T09:32:21.704413Z"
    },
    "papermill": {
     "duration": 0.027904,
     "end_time": "2022-11-05T09:32:21.707668",
     "exception": false,
     "start_time": "2022-11-05T09:32:21.679764",
     "status": "completed"
    },
    "tags": []
   },
   "outputs": [
    {
     "data": {
      "text/plain": [
       "array([0, 1, 2, 5, 3, 4, 6], dtype=int64)"
      ]
     },
     "execution_count": 21,
     "metadata": {},
     "output_type": "execute_result"
    }
   ],
   "source": [
    "titanic_data['Parch'].unique()"
   ]
  },
  {
   "cell_type": "code",
   "execution_count": 22,
   "id": "ce84df43",
   "metadata": {
    "execution": {
     "iopub.execute_input": "2022-11-05T09:32:21.739985Z",
     "iopub.status.busy": "2022-11-05T09:32:21.739544Z",
     "iopub.status.idle": "2022-11-05T09:32:21.745993Z",
     "shell.execute_reply": "2022-11-05T09:32:21.744834Z"
    },
    "papermill": {
     "duration": 0.025696,
     "end_time": "2022-11-05T09:32:21.748319",
     "exception": false,
     "start_time": "2022-11-05T09:32:21.722623",
     "status": "completed"
    },
    "tags": []
   },
   "outputs": [],
   "source": [
    "sns.set()"
   ]
  },
  {
   "cell_type": "code",
   "execution_count": 23,
   "id": "176ba998",
   "metadata": {
    "execution": {
     "iopub.execute_input": "2022-11-05T09:32:21.779818Z",
     "iopub.status.busy": "2022-11-05T09:32:21.779407Z",
     "iopub.status.idle": "2022-11-05T09:32:22.016882Z",
     "shell.execute_reply": "2022-11-05T09:32:22.015570Z"
    },
    "papermill": {
     "duration": 0.256729,
     "end_time": "2022-11-05T09:32:22.019615",
     "exception": false,
     "start_time": "2022-11-05T09:32:21.762886",
     "status": "completed"
    },
    "tags": []
   },
   "outputs": [
    {
     "data": {
      "image/png": "[encoded data removed]",
      "text/plain": [
       "<Figure size 432x288 with 1 Axes>"
      ]
     },
     "metadata": {},
     "output_type": "display_data"
    }
   ],
   "source": [
    "sns.countplot(x = titanic_data['Survived']).set_title('survived Vs deceased');"
   ]
  },
  {
   "cell_type": "code",
   "execution_count": 24,
   "id": "dce15268",
   "metadata": {
    "execution": {
     "iopub.execute_input": "2022-11-05T09:32:22.051902Z",
     "iopub.status.busy": "2022-11-05T09:32:22.051482Z",
     "iopub.status.idle": "2022-11-05T09:32:22.257358Z",
     "shell.execute_reply": "2022-11-05T09:32:22.256051Z"
    },
    "papermill": {
     "duration": 0.225172,
     "end_time": "2022-11-05T09:32:22.259841",
     "exception": false,
     "start_time": "2022-11-05T09:32:22.034669",
     "status": "completed"
    },
    "tags": []
   },
   "outputs": [
    {
     "data": {
      "image/png": "[encoded data removed]",
      "text/plain": [
       "<Figure size 432x288 with 1 Axes>"
      ]
     },
     "metadata": {},
     "output_type": "display_data"
    }
   ],
   "source": [
    "sns.countplot(x = titanic_data['Sex']);"
   ]
  },
  {
   "cell_type": "code",
   "execution_count": 25,
   "id": "60cb3f3b",
   "metadata": {
    "execution": {
     "iopub.execute_input": "2022-11-05T09:32:22.293127Z",
     "iopub.status.busy": "2022-11-05T09:32:22.291952Z",
     "iopub.status.idle": "2022-11-05T09:32:22.514269Z",
     "shell.execute_reply": "2022-11-05T09:32:22.513138Z"
    },
    "papermill": {
     "duration": 0.241361,
     "end_time": "2022-11-05T09:32:22.516647",
     "exception": false,
     "start_time": "2022-11-05T09:32:22.275286",
     "status": "completed"
    },
    "tags": []
   },
   "outputs": [
    {
     "data": {
      "image/png": "[encoded data removed]",
      "text/plain": [
       "<Figure size 432x288 with 1 Axes>"
      ]
     },
     "metadata": {},
     "output_type": "display_data"
    }
   ],
   "source": [
    "sns.countplot('Sex', hue='Survived', data = titanic_data);"
   ]
  },
  {
   "cell_type": "code",
   "execution_count": 26,
   "id": "fdb8ee2c",
   "metadata": {
    "execution": {
     "iopub.execute_input": "2022-11-05T09:32:22.549876Z",
     "iopub.status.busy": "2022-11-05T09:32:22.548872Z",
     "iopub.status.idle": "2022-11-05T09:32:22.557724Z",
     "shell.execute_reply": "2022-11-05T09:32:22.556597Z"
    },
    "papermill": {
     "duration": 0.027579,
     "end_time": "2022-11-05T09:32:22.559959",
     "exception": false,
     "start_time": "2022-11-05T09:32:22.532380",
     "status": "completed"
    },
    "scrolled": true,
    "tags": []
   },
   "outputs": [
    {
     "data": {
      "text/plain": [
       "3    491\n",
       "1    216\n",
       "2    184\n",
       "Name: Pclass, dtype: int64"
      ]
     },
     "execution_count": 26,
     "metadata": {},
     "output_type": "execute_result"
    }
   ],
   "source": [
    "titanic_data['Pclass'].value_counts()"
   ]
  },
  {
   "cell_type": "code",
   "execution_count": 27,
   "id": "3600e139",
   "metadata": {
    "execution": {
     "iopub.execute_input": "2022-11-05T09:32:22.592352Z",
     "iopub.status.busy": "2022-11-05T09:32:22.591929Z",
     "iopub.status.idle": "2022-11-05T09:32:22.843581Z",
     "shell.execute_reply": "2022-11-05T09:32:22.842466Z"
    },
    "papermill": {
     "duration": 0.271137,
     "end_time": "2022-11-05T09:32:22.846192",
     "exception": false,
     "start_time": "2022-11-05T09:32:22.575055",
     "status": "completed"
    },
    "tags": []
   },
   "outputs": [
    {
     "data": {
      "image/png": "[encoded data removed]",
      "text/plain": [
       "<Figure size 432x288 with 1 Axes>"
      ]
     },
     "metadata": {},
     "output_type": "display_data"
    }
   ],
   "source": [
    "sns.countplot('Pclass', hue='Survived', data = titanic_data);"
   ]
  },
  {
   "cell_type": "code",
   "execution_count": 28,
   "id": "5ec3659e",
   "metadata": {
    "execution": {
     "iopub.execute_input": "2022-11-05T09:32:22.879346Z",
     "iopub.status.busy": "2022-11-05T09:32:22.878899Z",
     "iopub.status.idle": "2022-11-05T09:32:23.139793Z",
     "shell.execute_reply": "2022-11-05T09:32:23.138684Z"
    },
    "papermill": {
     "duration": 0.280379,
     "end_time": "2022-11-05T09:32:23.142271",
     "exception": false,
     "start_time": "2022-11-05T09:32:22.861892",
     "status": "completed"
    },
    "tags": []
   },
   "outputs": [
    {
     "data": {
      "image/png": "[encoded data removed]",
      "text/plain": [
       "<Figure size 432x288 with 1 Axes>"
      ]
     },
     "metadata": {},
     "output_type": "display_data"
    }
   ],
   "source": [
    "sns.countplot('Embarked', hue='Survived', data = titanic_data);"
   ]
  },
  {
   "cell_type": "code",
   "execution_count": 29,
   "id": "e1c45c90",
   "metadata": {
    "execution": {
     "iopub.execute_input": "2022-11-05T09:32:23.175494Z",
     "iopub.status.busy": "2022-11-05T09:32:23.175069Z",
     "iopub.status.idle": "2022-11-05T09:32:23.470033Z",
     "shell.execute_reply": "2022-11-05T09:32:23.468797Z"
    },
    "papermill": {
     "duration": 0.314533,
     "end_time": "2022-11-05T09:32:23.472593",
     "exception": false,
     "start_time": "2022-11-05T09:32:23.158060",
     "status": "completed"
    },
    "tags": []
   },
   "outputs": [
    {
     "data": {
      "image/png": "[encoded data removed]",
      "text/plain": [
       "<Figure size 432x288 with 1 Axes>"
      ]
     },
     "metadata": {},
     "output_type": "display_data"
    }
   ],
   "source": [
    "sns.countplot('Parch', hue='Survived', data = titanic_data);"
   ]
  },
  {
   "cell_type": "code",
   "execution_count": 30,
   "id": "3dee02cd",
   "metadata": {
    "execution": {
     "iopub.execute_input": "2022-11-05T09:32:23.506481Z",
     "iopub.status.busy": "2022-11-05T09:32:23.505661Z",
     "iopub.status.idle": "2022-11-05T09:32:23.528520Z",
     "shell.execute_reply": "2022-11-05T09:32:23.527372Z"
    },
    "papermill": {
     "duration": 0.042303,
     "end_time": "2022-11-05T09:32:23.530866",
     "exception": false,
     "start_time": "2022-11-05T09:32:23.488563",
     "status": "completed"
    },
    "tags": []
   },
   "outputs": [
    {
     "data": {
      "text/html": [
       "<div>\n",
       "<style scoped>\n",
       "    .dataframe tbody tr th:only-of-type {\n",
       "        vertical-align: middle;\n",
       "    }\n",
       "\n",
       "    .dataframe tbody tr th {\n",
       "        vertical-align: top;\n",
       "    }\n",
       "\n",
       "    .dataframe thead th {\n",
       "        text-align: right;\n",
       "    }\n",
       "</style>\n",
       "<table border=\"1\" class=\"dataframe\">\n",
       "  <thead>\n",
       "    <tr style=\"text-align: right;\">\n",
       "      <th></th>\n",
       "      <th>PassengerId</th>\n",
       "      <th>Survived</th>\n",
       "      <th>Pclass</th>\n",
       "      <th>Name</th>\n",
       "      <th>Sex</th>\n",
       "      <th>Age</th>\n",
       "      <th>SibSp</th>\n",
       "      <th>Parch</th>\n",
       "      <th>Ticket</th>\n",
       "      <th>Fare</th>\n",
       "      <th>Embarked</th>\n",
       "    </tr>\n",
       "  </thead>\n",
       "  <tbody>\n",
       "    <tr>\n",
       "      <th>0</th>\n",
       "      <td>1</td>\n",
       "      <td>0</td>\n",
       "      <td>3</td>\n",
       "      <td>Braund, Mr. Owen Harris</td>\n",
       "      <td>0</td>\n",
       "      <td>22.000000</td>\n",
       "      <td>1</td>\n",
       "      <td>0</td>\n",
       "      <td>A/5 21171</td>\n",
       "      <td>7.2500</td>\n",
       "      <td>0</td>\n",
       "    </tr>\n",
       "    <tr>\n",
       "      <th>1</th>\n",
       "      <td>2</td>\n",
       "      <td>1</td>\n",
       "      <td>1</td>\n",
       "      <td>Cumings, Mrs. John Bradley (Florence Briggs Th...</td>\n",
       "      <td>1</td>\n",
       "      <td>38.000000</td>\n",
       "      <td>1</td>\n",
       "      <td>0</td>\n",
       "      <td>PC 17599</td>\n",
       "      <td>71.2833</td>\n",
       "      <td>1</td>\n",
       "    </tr>\n",
       "    <tr>\n",
       "      <th>2</th>\n",
       "      <td>3</td>\n",
       "      <td>1</td>\n",
       "      <td>3</td>\n",
       "      <td>Heikkinen, Miss. Laina</td>\n",
       "      <td>1</td>\n",
       "      <td>26.000000</td>\n",
       "      <td>0</td>\n",
       "      <td>0</td>\n",
       "      <td>STON/O2. 3101282</td>\n",
       "      <td>7.9250</td>\n",
       "      <td>0</td>\n",
       "    </tr>\n",
       "    <tr>\n",
       "      <th>3</th>\n",
       "      <td>4</td>\n",
       "      <td>1</td>\n",
       "      <td>1</td>\n",
       "      <td>Futrelle, Mrs. Jacques Heath (Lily May Peel)</td>\n",
       "      <td>1</td>\n",
       "      <td>35.000000</td>\n",
       "      <td>1</td>\n",
       "      <td>0</td>\n",
       "      <td>113803</td>\n",
       "      <td>53.1000</td>\n",
       "      <td>0</td>\n",
       "    </tr>\n",
       "    <tr>\n",
       "      <th>4</th>\n",
       "      <td>5</td>\n",
       "      <td>0</td>\n",
       "      <td>3</td>\n",
       "      <td>Allen, Mr. William Henry</td>\n",
       "      <td>0</td>\n",
       "      <td>35.000000</td>\n",
       "      <td>0</td>\n",
       "      <td>0</td>\n",
       "      <td>373450</td>\n",
       "      <td>8.0500</td>\n",
       "      <td>0</td>\n",
       "    </tr>\n",
       "    <tr>\n",
       "      <th>...</th>\n",
       "      <td>...</td>\n",
       "      <td>...</td>\n",
       "      <td>...</td>\n",
       "      <td>...</td>\n",
       "      <td>...</td>\n",
       "      <td>...</td>\n",
       "      <td>...</td>\n",
       "      <td>...</td>\n",
       "      <td>...</td>\n",
       "      <td>...</td>\n",
       "      <td>...</td>\n",
       "    </tr>\n",
       "    <tr>\n",
       "      <th>886</th>\n",
       "      <td>887</td>\n",
       "      <td>0</td>\n",
       "      <td>2</td>\n",
       "      <td>Montvila, Rev. Juozas</td>\n",
       "      <td>0</td>\n",
       "      <td>27.000000</td>\n",
       "      <td>0</td>\n",
       "      <td>0</td>\n",
       "      <td>211536</td>\n",
       "      <td>13.0000</td>\n",
       "      <td>0</td>\n",
       "    </tr>\n",
       "    <tr>\n",
       "      <th>887</th>\n",
       "      <td>888</td>\n",
       "      <td>1</td>\n",
       "      <td>1</td>\n",
       "      <td>Graham, Miss. Margaret Edith</td>\n",
       "      <td>1</td>\n",
       "      <td>19.000000</td>\n",
       "      <td>0</td>\n",
       "      <td>0</td>\n",
       "      <td>112053</td>\n",
       "      <td>30.0000</td>\n",
       "      <td>0</td>\n",
       "    </tr>\n",
       "    <tr>\n",
       "      <th>888</th>\n",
       "      <td>889</td>\n",
       "      <td>0</td>\n",
       "      <td>3</td>\n",
       "      <td>Johnston, Miss. Catherine Helen \"Carrie\"</td>\n",
       "      <td>1</td>\n",
       "      <td>29.699118</td>\n",
       "      <td>1</td>\n",
       "      <td>2</td>\n",
       "      <td>W./C. 6607</td>\n",
       "      <td>23.4500</td>\n",
       "      <td>0</td>\n",
       "    </tr>\n",
       "    <tr>\n",
       "      <th>889</th>\n",
       "      <td>890</td>\n",
       "      <td>1</td>\n",
       "      <td>1</td>\n",
       "      <td>Behr, Mr. Karl Howell</td>\n",
       "      <td>0</td>\n",
       "      <td>26.000000</td>\n",
       "      <td>0</td>\n",
       "      <td>0</td>\n",
       "      <td>111369</td>\n",
       "      <td>30.0000</td>\n",
       "      <td>1</td>\n",
       "    </tr>\n",
       "    <tr>\n",
       "      <th>890</th>\n",
       "      <td>891</td>\n",
       "      <td>0</td>\n",
       "      <td>3</td>\n",
       "      <td>Dooley, Mr. Patrick</td>\n",
       "      <td>0</td>\n",
       "      <td>32.000000</td>\n",
       "      <td>0</td>\n",
       "      <td>0</td>\n",
       "      <td>370376</td>\n",
       "      <td>7.7500</td>\n",
       "      <td>2</td>\n",
       "    </tr>\n",
       "  </tbody>\n",
       "</table>\n",
       "<p>891 rows × 11 columns</p>\n",
       "</div>"
      ],
      "text/plain": [
       "     PassengerId  Survived  Pclass  \\\n",
       "0              1         0       3   \n",
       "1              2         1       1   \n",
       "2              3         1       3   \n",
       "3              4         1       1   \n",
       "4              5         0       3   \n",
       "..           ...       ...     ...   \n",
       "886          887         0       2   \n",
       "887          888         1       1   \n",
       "888          889         0       3   \n",
       "889          890         1       1   \n",
       "890          891         0       3   \n",
       "\n",
       "                                                  Name  Sex        Age  SibSp  \\\n",
       "0                              Braund, Mr. Owen Harris    0  22.000000      1   \n",
       "1    Cumings, Mrs. John Bradley (Florence Briggs Th...    1  38.000000      1   \n",
       "2                               Heikkinen, Miss. Laina    1  26.000000      0   \n",
       "3         Futrelle, Mrs. Jacques Heath (Lily May Peel)    1  35.000000      1   \n",
       "4                             Allen, Mr. William Henry    0  35.000000      0   \n",
       "..                                                 ...  ...        ...    ...   \n",
       "886                              Montvila, Rev. Juozas    0  27.000000      0   \n",
       "887                       Graham, Miss. Margaret Edith    1  19.000000      0   \n",
       "888           Johnston, Miss. Catherine Helen \"Carrie\"    1  29.699118      1   \n",
       "889                              Behr, Mr. Karl Howell    0  26.000000      0   \n",
       "890                                Dooley, Mr. Patrick    0  32.000000      0   \n",
       "\n",
       "     Parch            Ticket     Fare  Embarked  \n",
       "0        0         A/5 21171   7.2500         0  \n",
       "1        0          PC 17599  71.2833         1  \n",
       "2        0  STON/O2. 3101282   7.9250         0  \n",
       "3        0            113803  53.1000         0  \n",
       "4        0            373450   8.0500         0  \n",
       "..     ...               ...      ...       ...  \n",
       "886      0            211536  13.0000         0  \n",
       "887      0            112053  30.0000         0  \n",
       "888      2        W./C. 6607  23.4500         0  \n",
       "889      0            111369  30.0000         1  \n",
       "890      0            370376   7.7500         2  \n",
       "\n",
       "[891 rows x 11 columns]"
      ]
     },
     "execution_count": 30,
     "metadata": {},
     "output_type": "execute_result"
    }
   ],
   "source": [
    "titanic_data"
   ]
  },
  {
   "cell_type": "code",
   "execution_count": 31,
   "id": "6d6609b3",
   "metadata": {
    "execution": {
     "iopub.execute_input": "2022-11-05T09:32:23.566535Z",
     "iopub.status.busy": "2022-11-05T09:32:23.566125Z",
     "iopub.status.idle": "2022-11-05T09:32:23.574849Z",
     "shell.execute_reply": "2022-11-05T09:32:23.573528Z"
    },
    "papermill": {
     "duration": 0.028995,
     "end_time": "2022-11-05T09:32:23.577395",
     "exception": false,
     "start_time": "2022-11-05T09:32:23.548400",
     "status": "completed"
    },
    "tags": []
   },
   "outputs": [
    {
     "data": {
      "text/plain": [
       "PassengerId      int64\n",
       "Survived         int64\n",
       "Pclass           int64\n",
       "Name            object\n",
       "Sex              int64\n",
       "Age            float64\n",
       "SibSp            int64\n",
       "Parch            int64\n",
       "Ticket          object\n",
       "Fare           float64\n",
       "Embarked         int64\n",
       "dtype: object"
      ]
     },
     "execution_count": 31,
     "metadata": {},
     "output_type": "execute_result"
    }
   ],
   "source": [
    "titanic_data.dtypes"
   ]
  },
  {
   "cell_type": "code",
   "execution_count": 32,
   "id": "50e349e6",
   "metadata": {
    "execution": {
     "iopub.execute_input": "2022-11-05T09:32:23.612147Z",
     "iopub.status.busy": "2022-11-05T09:32:23.611744Z",
     "iopub.status.idle": "2022-11-05T09:32:23.618892Z",
     "shell.execute_reply": "2022-11-05T09:32:23.617823Z"
    },
    "papermill": {
     "duration": 0.027503,
     "end_time": "2022-11-05T09:32:23.621432",
     "exception": false,
     "start_time": "2022-11-05T09:32:23.593929",
     "status": "completed"
    },
    "tags": []
   },
   "outputs": [],
   "source": [
    "X = titanic_data.drop(columns= ['PassengerId','Name','Ticket','Survived'],axis=1)\n",
    "Y = titanic_data['Survived']"
   ]
  },
  {
   "cell_type": "code",
   "execution_count": 33,
   "id": "bddedc1e",
   "metadata": {
    "execution": {
     "iopub.execute_input": "2022-11-05T09:32:23.658089Z",
     "iopub.status.busy": "2022-11-05T09:32:23.657117Z",
     "iopub.status.idle": "2022-11-05T09:32:23.669726Z",
     "shell.execute_reply": "2022-11-05T09:32:23.668125Z"
    },
    "papermill": {
     "duration": 0.033668,
     "end_time": "2022-11-05T09:32:23.672285",
     "exception": false,
     "start_time": "2022-11-05T09:32:23.638617",
     "status": "completed"
    },
    "tags": []
   },
   "outputs": [
    {
     "name": "stdout",
     "output_type": "stream",
     "text": [
      "     Pclass  Sex        Age  SibSp  Parch     Fare  Embarked\n",
      "0         3    0  22.000000      1      0   7.2500         0\n",
      "1         1    1  38.000000      1      0  71.2833         1\n",
      "2         3    1  26.000000      0      0   7.9250         0\n",
      "3         1    1  35.000000      1      0  53.1000         0\n",
      "4         3    0  35.000000      0      0   8.0500         0\n",
      "..      ...  ...        ...    ...    ...      ...       ...\n",
      "886       2    0  27.000000      0      0  13.0000         0\n",
      "887       1    1  19.000000      0      0  30.0000         0\n",
      "888       3    1  29.699118      1      2  23.4500         0\n",
      "889       1    0  26.000000      0      0  30.0000         1\n",
      "890       3    0  32.000000      0      0   7.7500         2\n",
      "\n",
      "[891 rows x 7 columns] 0      0\n",
      "1      1\n",
      "2      1\n",
      "3      1\n",
      "4      0\n",
      "      ..\n",
      "886    0\n",
      "887    1\n",
      "888    0\n",
      "889    1\n",
      "890    0\n",
      "Name: Survived, Length: 891, dtype: int64\n"
     ]
    }
   ],
   "source": [
    "print(X,Y)"
   ]
  },
  {
   "cell_type": "code",
   "execution_count": 34,
   "id": "37be2bff",
   "metadata": {
    "execution": {
     "iopub.execute_input": "2022-11-05T09:32:23.708342Z",
     "iopub.status.busy": "2022-11-05T09:32:23.707941Z",
     "iopub.status.idle": "2022-11-05T09:32:23.717253Z",
     "shell.execute_reply": "2022-11-05T09:32:23.715301Z"
    },
    "papermill": {
     "duration": 0.031096,
     "end_time": "2022-11-05T09:32:23.720580",
     "exception": false,
     "start_time": "2022-11-05T09:32:23.689484",
     "status": "completed"
    },
    "tags": []
   },
   "outputs": [
    {
     "name": "stdout",
     "output_type": "stream",
     "text": [
      "(712, 7) (179, 7) (712,) (179,)\n"
     ]
    }
   ],
   "source": [
    "X_train,X_test,Y_train,Y_test = train_test_split(X,Y,test_size= 0.2,random_state=2)\n",
    "print(X_train.shape,X_test.shape,Y_train.shape,Y_test.shape)"
   ]
  },
  {
   "cell_type": "markdown",
   "id": "d24a417a",
   "metadata": {
    "papermill": {
     "duration": 0.016227,
     "end_time": "2022-11-05T09:32:23.753991",
     "exception": false,
     "start_time": "2022-11-05T09:32:23.737764",
     "status": "completed"
    },
    "tags": []
   },
   "source": [
    "## Model Training:"
   ]
  },
  {
   "cell_type": "markdown",
   "id": "a48e106e",
   "metadata": {
    "papermill": {
     "duration": 0.017593,
     "end_time": "2022-11-05T09:32:23.788138",
     "exception": false,
     "start_time": "2022-11-05T09:32:23.770545",
     "status": "completed"
    },
    "tags": []
   },
   "source": [
    "## Logistic Regression"
   ]
  },
  {
   "cell_type": "code",
   "execution_count": 35,
   "id": "e7f1e465",
   "metadata": {
    "execution": {
     "iopub.execute_input": "2022-11-05T09:32:23.825516Z",
     "iopub.status.busy": "2022-11-05T09:32:23.824239Z",
     "iopub.status.idle": "2022-11-05T09:32:23.829995Z",
     "shell.execute_reply": "2022-11-05T09:32:23.828970Z"
    },
    "papermill": {
     "duration": 0.026703,
     "end_time": "2022-11-05T09:32:23.832094",
     "exception": false,
     "start_time": "2022-11-05T09:32:23.805391",
     "status": "completed"
    },
    "tags": []
   },
   "outputs": [],
   "source": [
    "logreg = LogisticRegression()"
   ]
  },
  {
   "cell_type": "code",
   "execution_count": 36,
   "id": "19e8e044",
   "metadata": {
    "execution": {
     "iopub.execute_input": "2022-11-05T09:32:23.870021Z",
     "iopub.status.busy": "2022-11-05T09:32:23.869347Z",
     "iopub.status.idle": "2022-11-05T09:32:23.915503Z",
     "shell.execute_reply": "2022-11-05T09:32:23.914174Z"
    },
    "papermill": {
     "duration": 0.06804,
     "end_time": "2022-11-05T09:32:23.918420",
     "exception": false,
     "start_time": "2022-11-05T09:32:23.850380",
     "status": "completed"
    },
    "tags": []
   },
   "outputs": [
    {
     "data": {
      "text/plain": [
       "LogisticRegression()"
      ]
     },
     "execution_count": 36,
     "metadata": {},
     "output_type": "execute_result"
    }
   ],
   "source": [
    "logreg.fit(X_train,Y_train)"
   ]
  },
  {
   "cell_type": "markdown",
   "id": "0a8d1c97",
   "metadata": {
    "papermill": {
     "duration": 0.017075,
     "end_time": "2022-11-05T09:32:23.953284",
     "exception": false,
     "start_time": "2022-11-05T09:32:23.936209",
     "status": "completed"
    },
    "tags": []
   },
   "source": [
    "## Model Evaluation:"
   ]
  },
  {
   "cell_type": "code",
   "execution_count": 37,
   "id": "4c404e15",
   "metadata": {
    "execution": {
     "iopub.execute_input": "2022-11-05T09:32:23.990518Z",
     "iopub.status.busy": "2022-11-05T09:32:23.990070Z",
     "iopub.status.idle": "2022-11-05T09:32:23.999494Z",
     "shell.execute_reply": "2022-11-05T09:32:23.998543Z"
    },
    "papermill": {
     "duration": 0.031608,
     "end_time": "2022-11-05T09:32:24.002405",
     "exception": false,
     "start_time": "2022-11-05T09:32:23.970797",
     "status": "completed"
    },
    "tags": []
   },
   "outputs": [
    {
     "data": {
      "text/plain": [
       "(712,)"
      ]
     },
     "execution_count": 37,
     "metadata": {},
     "output_type": "execute_result"
    }
   ],
   "source": [
    "X_train_pred = logreg.predict(X_train)\n",
    "X_train_pred.shape"
   ]
  },
  {
   "cell_type": "code",
   "execution_count": 38,
   "id": "fc3190a4",
   "metadata": {
    "execution": {
     "iopub.execute_input": "2022-11-05T09:32:24.041268Z",
     "iopub.status.busy": "2022-11-05T09:32:24.039939Z",
     "iopub.status.idle": "2022-11-05T09:32:24.047927Z",
     "shell.execute_reply": "2022-11-05T09:32:24.046048Z"
    },
    "papermill": {
     "duration": 0.030407,
     "end_time": "2022-11-05T09:32:24.051152",
     "exception": false,
     "start_time": "2022-11-05T09:32:24.020745",
     "status": "completed"
    },
    "tags": []
   },
   "outputs": [
    {
     "name": "stdout",
     "output_type": "stream",
     "text": [
      "Training Accuracy=  81 %\n"
     ]
    }
   ],
   "source": [
    "ac_training = accuracy_score(Y_train,X_train_pred)\n",
    "print('Training Accuracy= ', round(ac_training * 100),'%')"
   ]
  },
  {
   "cell_type": "code",
   "execution_count": 39,
   "id": "edf6d041",
   "metadata": {
    "execution": {
     "iopub.execute_input": "2022-11-05T09:32:24.089358Z",
     "iopub.status.busy": "2022-11-05T09:32:24.088481Z",
     "iopub.status.idle": "2022-11-05T09:32:24.098172Z",
     "shell.execute_reply": "2022-11-05T09:32:24.097115Z"
    },
    "papermill": {
     "duration": 0.031562,
     "end_time": "2022-11-05T09:32:24.100741",
     "exception": false,
     "start_time": "2022-11-05T09:32:24.069179",
     "status": "completed"
    },
    "tags": []
   },
   "outputs": [
    {
     "data": {
      "text/plain": [
       "(179,)"
      ]
     },
     "execution_count": 39,
     "metadata": {},
     "output_type": "execute_result"
    }
   ],
   "source": [
    "X_test_pred = logreg.predict(X_test)\n",
    "X_test_pred.shape"
   ]
  },
  {
   "cell_type": "code",
   "execution_count": 40,
   "id": "4b891077",
   "metadata": {
    "execution": {
     "iopub.execute_input": "2022-11-05T09:32:24.140710Z",
     "iopub.status.busy": "2022-11-05T09:32:24.139969Z",
     "iopub.status.idle": "2022-11-05T09:32:24.150399Z",
     "shell.execute_reply": "2022-11-05T09:32:24.148478Z"
    },
    "papermill": {
     "duration": 0.034176,
     "end_time": "2022-11-05T09:32:24.153036",
     "exception": false,
     "start_time": "2022-11-05T09:32:24.118860",
     "status": "completed"
    },
    "tags": []
   },
   "outputs": [
    {
     "name": "stdout",
     "output_type": "stream",
     "text": [
      "Testing Accuracy=  78 %\n"
     ]
    }
   ],
   "source": [
    "ac_testing = accuracy_score(Y_test,X_test_pred)\n",
    "print('Testing Accuracy= ', round(ac_testing * 100),'%')"
   ]
  },
  {
   "cell_type": "code",
   "execution_count": 41,
   "id": "3f456b72",
   "metadata": {
    "papermill": {
     "duration": 0.019162,
     "end_time": "2022-11-05T09:32:25.013500",
     "exception": false,
     "start_time": "2022-11-05T09:32:24.994338",
     "status": "completed"
    },
    "tags": []
   },
   "outputs": [
    {
     "data": {
      "text/plain": [
       "array([[91,  9],\n",
       "       [30, 49]], dtype=int64)"
      ]
     },
     "execution_count": 41,
     "metadata": {},
     "output_type": "execute_result"
    }
   ],
   "source": [
    "from sklearn.metrics import confusion_matrix\n",
    "cf=confusion_matrix(Y_test,X_test_pred)\n",
    "cf"
   ]
  },
  {
   "cell_type": "code",
   "execution_count": null,
   "id": "82d4256c",
   "metadata": {},
   "outputs": [],
   "source": []
  }
 ],
 "metadata": {
  "kernelspec": {
   "display_name": "Python 3 (ipykernel)",
   "language": "python",
   "name": "python3"
  },
  "language_info": {
   "codemirror_mode": {
    "name": "ipython",
    "version": 3
   },
   "file_extension": ".py",
   "mimetype": "text/x-python",
   "name": "python",
   "nbconvert_exporter": "python",
   "pygments_lexer": "ipython3",
   "version": "3.9.7"
  },
  "papermill": {
   "default_parameters": {},
   "duration": 17.667642,
   "end_time": "2022-11-05T09:32:25.856222",
   "environment_variables": {},
   "exception": null,
   "input_path": "__notebook__.ipynb",
   "output_path": "__notebook__.ipynb",
   "parameters": {},
   "start_time": "2022-11-05T09:32:08.188580",
   "version": "2.3.4"
  }
 },
 "nbformat": 4,
 "nbformat_minor": 5
}
